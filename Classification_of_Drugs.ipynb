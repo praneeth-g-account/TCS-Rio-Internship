{
  "nbformat": 4,
  "nbformat_minor": 0,
  "metadata": {
    "colab": {
      "name": "Classification of Drugs.ipynb",
      "provenance": [],
      "collapsed_sections": []
    },
    "kernelspec": {
      "name": "python3",
      "display_name": "Python 3"
    },
    "language_info": {
      "name": "python"
    }
  },
  "cells": [
    {
      "cell_type": "markdown",
      "metadata": {
        "id": "mTSOlorNAmI0"
      },
      "source": [
        "**IMPORTING** **LIBRARIES**"
      ]
    },
    {
      "cell_type": "code",
      "metadata": {
        "id": "BVoEVHDeAveu"
      },
      "source": [
        "import numpy as np\n",
        "import matplotlib.pyplot as plt\n",
        "import pandas as pd\n",
        "from sklearn.metrics import classification_report"
      ],
      "execution_count": null,
      "outputs": []
    },
    {
      "cell_type": "markdown",
      "metadata": {
        "id": "gfRSkxreBJY8"
      },
      "source": [
        "**IMPORTING DATASET**"
      ]
    },
    {
      "cell_type": "code",
      "metadata": {
        "colab": {
          "base_uri": "https://localhost:8080/",
          "height": 417
        },
        "id": "V7hCCLziBMm8",
        "outputId": "011ab69c-1a4f-49e3-f063-cd1e4897f391"
      },
      "source": [
        "X = pd.read_csv('DrugEffects.csv').drop(columns=['Unnamed: 0'])\n",
        "X"
      ],
      "execution_count": null,
      "outputs": [
        {
          "output_type": "execute_result",
          "data": {
            "text/html": [
              "<div>\n",
              "<style scoped>\n",
              "    .dataframe tbody tr th:only-of-type {\n",
              "        vertical-align: middle;\n",
              "    }\n",
              "\n",
              "    .dataframe tbody tr th {\n",
              "        vertical-align: top;\n",
              "    }\n",
              "\n",
              "    .dataframe thead th {\n",
              "        text-align: right;\n",
              "    }\n",
              "</style>\n",
              "<table border=\"1\" class=\"dataframe\">\n",
              "  <thead>\n",
              "    <tr style=\"text-align: right;\">\n",
              "      <th></th>\n",
              "      <th>urlDrugName</th>\n",
              "      <th>rating</th>\n",
              "      <th>effectiveness</th>\n",
              "      <th>condition</th>\n",
              "      <th>sideEffects</th>\n",
              "    </tr>\n",
              "  </thead>\n",
              "  <tbody>\n",
              "    <tr>\n",
              "      <th>0</th>\n",
              "      <td>enalapril</td>\n",
              "      <td>4</td>\n",
              "      <td>Highly Effective</td>\n",
              "      <td>management of congestive heart failure</td>\n",
              "      <td>Mild Side Effects</td>\n",
              "    </tr>\n",
              "    <tr>\n",
              "      <th>1</th>\n",
              "      <td>ortho-tri-cyclen</td>\n",
              "      <td>1</td>\n",
              "      <td>Highly Effective</td>\n",
              "      <td>birth prevention</td>\n",
              "      <td>Severe Side Effects</td>\n",
              "    </tr>\n",
              "    <tr>\n",
              "      <th>2</th>\n",
              "      <td>ponstel</td>\n",
              "      <td>10</td>\n",
              "      <td>Highly Effective</td>\n",
              "      <td>menstrual cramps</td>\n",
              "      <td>No Side Effects</td>\n",
              "    </tr>\n",
              "    <tr>\n",
              "      <th>3</th>\n",
              "      <td>prilosec</td>\n",
              "      <td>3</td>\n",
              "      <td>Marginally Effective</td>\n",
              "      <td>acid reflux</td>\n",
              "      <td>Mild Side Effects</td>\n",
              "    </tr>\n",
              "    <tr>\n",
              "      <th>4</th>\n",
              "      <td>lyrica</td>\n",
              "      <td>2</td>\n",
              "      <td>Marginally Effective</td>\n",
              "      <td>fibromyalgia</td>\n",
              "      <td>Severe Side Effects</td>\n",
              "    </tr>\n",
              "    <tr>\n",
              "      <th>...</th>\n",
              "      <td>...</td>\n",
              "      <td>...</td>\n",
              "      <td>...</td>\n",
              "      <td>...</td>\n",
              "      <td>...</td>\n",
              "    </tr>\n",
              "    <tr>\n",
              "      <th>3102</th>\n",
              "      <td>vyvanse</td>\n",
              "      <td>10</td>\n",
              "      <td>Highly Effective</td>\n",
              "      <td>adhd</td>\n",
              "      <td>Mild Side Effects</td>\n",
              "    </tr>\n",
              "    <tr>\n",
              "      <th>3103</th>\n",
              "      <td>zoloft</td>\n",
              "      <td>1</td>\n",
              "      <td>Ineffective</td>\n",
              "      <td>depression</td>\n",
              "      <td>Extremely Severe Side Effects</td>\n",
              "    </tr>\n",
              "    <tr>\n",
              "      <th>3104</th>\n",
              "      <td>climara</td>\n",
              "      <td>2</td>\n",
              "      <td>Marginally Effective</td>\n",
              "      <td>total hysterctomy</td>\n",
              "      <td>Moderate Side Effects</td>\n",
              "    </tr>\n",
              "    <tr>\n",
              "      <th>3105</th>\n",
              "      <td>trileptal</td>\n",
              "      <td>8</td>\n",
              "      <td>Considerably Effective</td>\n",
              "      <td>epilepsy</td>\n",
              "      <td>Mild Side Effects</td>\n",
              "    </tr>\n",
              "    <tr>\n",
              "      <th>3106</th>\n",
              "      <td>micardis</td>\n",
              "      <td>4</td>\n",
              "      <td>Moderately Effective</td>\n",
              "      <td>high blood pressure</td>\n",
              "      <td>Moderate Side Effects</td>\n",
              "    </tr>\n",
              "  </tbody>\n",
              "</table>\n",
              "<p>3107 rows × 5 columns</p>\n",
              "</div>"
            ],
            "text/plain": [
              "           urlDrugName  ...                    sideEffects\n",
              "0            enalapril  ...              Mild Side Effects\n",
              "1     ortho-tri-cyclen  ...            Severe Side Effects\n",
              "2              ponstel  ...                No Side Effects\n",
              "3             prilosec  ...              Mild Side Effects\n",
              "4               lyrica  ...            Severe Side Effects\n",
              "...                ...  ...                            ...\n",
              "3102           vyvanse  ...              Mild Side Effects\n",
              "3103            zoloft  ...  Extremely Severe Side Effects\n",
              "3104           climara  ...          Moderate Side Effects\n",
              "3105         trileptal  ...              Mild Side Effects\n",
              "3106          micardis  ...          Moderate Side Effects\n",
              "\n",
              "[3107 rows x 5 columns]"
            ]
          },
          "metadata": {},
          "execution_count": 104
        }
      ]
    },
    {
      "cell_type": "code",
      "metadata": {
        "colab": {
          "base_uri": "https://localhost:8080/",
          "height": 477
        },
        "id": "p6QNhi5RBctf",
        "outputId": "0c7b8854-c779-4912-e8c0-7bf77953b349"
      },
      "source": [
        "X['urlDrugName'].value_counts().head(15).plot(kind='bar',color='red')\n",
        "plt.rcParams['figure.figsize']=(10,7)\n",
        "plt.show()"
      ],
      "execution_count": null,
      "outputs": [
        {
          "output_type": "display_data",
          "data": {
            "image/png": "[encoded data removed]",
            "text/plain": [
              "<Figure size 720x504 with 1 Axes>"
            ]
          },
          "metadata": {
            "needs_background": "light"
          }
        }
      ]
    },
    {
      "cell_type": "code",
      "metadata": {
        "id": "9ludiVwFBrR-"
      },
      "source": [
        "#Drug Rating"
      ],
      "execution_count": null,
      "outputs": []
    },
    {
      "cell_type": "code",
      "metadata": {
        "colab": {
          "base_uri": "https://localhost:8080/",
          "height": 461
        },
        "id": "9XjSuoB3Bx7Q",
        "outputId": "2cd9fb48-c9ca-48ef-cd30-23b054ab1426"
      },
      "source": [
        "X['rating'].value_counts().head(15).plot(kind='bar',color='green')\n",
        "plt.title('Drug Ratings')\n",
        "plt.xlabel('ratings')\n",
        "plt.show()"
      ],
      "execution_count": null,
      "outputs": [
        {
          "output_type": "display_data",
          "data": {
            "image/png": "[encoded data removed]",
            "text/plain": [
              "<Figure size 720x504 with 1 Axes>"
            ]
          },
          "metadata": {
            "needs_background": "light"
          }
        }
      ]
    },
    {
      "cell_type": "code",
      "metadata": {
        "id": "8t6jHjl_Bz-k"
      },
      "source": [
        "#Effectiveness of the Drugs"
      ],
      "execution_count": null,
      "outputs": []
    },
    {
      "cell_type": "code",
      "metadata": {
        "colab": {
          "base_uri": "https://localhost:8080/",
          "height": 427
        },
        "id": "AyVF9zA4B6Y1",
        "outputId": "ac1f458a-d181-48ad-c94c-4bfb7cf7c91a"
      },
      "source": [
        "effective = X['effectiveness'].value_counts()\n",
        "plt.title('Effectiveness of Drugs')\n",
        "effective.plot(kind='pie')\n",
        "plt.show()"
      ],
      "execution_count": null,
      "outputs": [
        {
          "output_type": "display_data",
          "data": {
            "image/png": "[encoded data removed]",
            "text/plain": [
              "<Figure size 720x504 with 1 Axes>"
            ]
          },
          "metadata": {}
        }
      ]
    },
    {
      "cell_type": "code",
      "metadata": {
        "id": "ZOESEAMTB67O"
      },
      "source": [
        "#Condition of medicine cures"
      ],
      "execution_count": null,
      "outputs": []
    },
    {
      "cell_type": "code",
      "metadata": {
        "colab": {
          "base_uri": "https://localhost:8080/",
          "height": 547
        },
        "id": "lNF16_qACBVe",
        "outputId": "b5606331-3c89-487c-a1c3-781f567337c1"
      },
      "source": [
        "X['condition'].value_counts().head(15).plot(kind='bar',color='blue')\n",
        "plt.title('Condition Of Medicine Cures')\n",
        "plt.xlabel('condition')\n",
        "plt.show()"
      ],
      "execution_count": null,
      "outputs": [
        {
          "output_type": "display_data",
          "data": {
            "image/png": "[encoded data removed]",
            "text/plain": [
              "<Figure size 720x504 with 1 Axes>"
            ]
          },
          "metadata": {
            "needs_background": "light"
          }
        }
      ]
    },
    {
      "cell_type": "code",
      "metadata": {
        "id": "_olUkjNcCBvq"
      },
      "source": [
        "#Data cleaning"
      ],
      "execution_count": null,
      "outputs": []
    },
    {
      "cell_type": "code",
      "metadata": {
        "colab": {
          "base_uri": "https://localhost:8080/"
        },
        "id": "DTAnbhChCGHL",
        "outputId": "19ab5106-ccb3-43fa-f86a-657e92aa8fd9"
      },
      "source": [
        "y = X.pop('sideEffects')\n",
        "y.head()"
      ],
      "execution_count": null,
      "outputs": [
        {
          "output_type": "execute_result",
          "data": {
            "text/plain": [
              "0      Mild Side Effects\n",
              "1    Severe Side Effects\n",
              "2        No Side Effects\n",
              "3      Mild Side Effects\n",
              "4    Severe Side Effects\n",
              "Name: sideEffects, dtype: object"
            ]
          },
          "metadata": {},
          "execution_count": 113
        }
      ]
    },
    {
      "cell_type": "code",
      "metadata": {
        "id": "KKUHZrBoCJAD"
      },
      "source": [
        "columns = ['urlDrugName','effectiveness','condition']\n",
        "for i in columns:\n",
        "    X[i] = pd.factorize(X[i])[0]\n",
        "    \n",
        "y = pd.factorize(y)[0]"
      ],
      "execution_count": null,
      "outputs": []
    },
    {
      "cell_type": "code",
      "metadata": {
        "colab": {
          "base_uri": "https://localhost:8080/",
          "height": 417
        },
        "id": "_lAnmUMLCL7y",
        "outputId": "ad2be1a3-1106-4ea7-9b1e-754faffb071c"
      },
      "source": [
        "X"
      ],
      "execution_count": null,
      "outputs": [
        {
          "output_type": "execute_result",
          "data": {
            "text/html": [
              "<div>\n",
              "<style scoped>\n",
              "    .dataframe tbody tr th:only-of-type {\n",
              "        vertical-align: middle;\n",
              "    }\n",
              "\n",
              "    .dataframe tbody tr th {\n",
              "        vertical-align: top;\n",
              "    }\n",
              "\n",
              "    .dataframe thead th {\n",
              "        text-align: right;\n",
              "    }\n",
              "</style>\n",
              "<table border=\"1\" class=\"dataframe\">\n",
              "  <thead>\n",
              "    <tr style=\"text-align: right;\">\n",
              "      <th></th>\n",
              "      <th>urlDrugName</th>\n",
              "      <th>rating</th>\n",
              "      <th>effectiveness</th>\n",
              "      <th>condition</th>\n",
              "    </tr>\n",
              "  </thead>\n",
              "  <tbody>\n",
              "    <tr>\n",
              "      <th>0</th>\n",
              "      <td>0</td>\n",
              "      <td>4</td>\n",
              "      <td>0</td>\n",
              "      <td>0</td>\n",
              "    </tr>\n",
              "    <tr>\n",
              "      <th>1</th>\n",
              "      <td>1</td>\n",
              "      <td>1</td>\n",
              "      <td>0</td>\n",
              "      <td>1</td>\n",
              "    </tr>\n",
              "    <tr>\n",
              "      <th>2</th>\n",
              "      <td>2</td>\n",
              "      <td>10</td>\n",
              "      <td>0</td>\n",
              "      <td>2</td>\n",
              "    </tr>\n",
              "    <tr>\n",
              "      <th>3</th>\n",
              "      <td>3</td>\n",
              "      <td>3</td>\n",
              "      <td>1</td>\n",
              "      <td>3</td>\n",
              "    </tr>\n",
              "    <tr>\n",
              "      <th>4</th>\n",
              "      <td>4</td>\n",
              "      <td>2</td>\n",
              "      <td>1</td>\n",
              "      <td>4</td>\n",
              "    </tr>\n",
              "    <tr>\n",
              "      <th>...</th>\n",
              "      <td>...</td>\n",
              "      <td>...</td>\n",
              "      <td>...</td>\n",
              "      <td>...</td>\n",
              "    </tr>\n",
              "    <tr>\n",
              "      <th>3102</th>\n",
              "      <td>6</td>\n",
              "      <td>10</td>\n",
              "      <td>0</td>\n",
              "      <td>27</td>\n",
              "    </tr>\n",
              "    <tr>\n",
              "      <th>3103</th>\n",
              "      <td>95</td>\n",
              "      <td>1</td>\n",
              "      <td>2</td>\n",
              "      <td>7</td>\n",
              "    </tr>\n",
              "    <tr>\n",
              "      <th>3104</th>\n",
              "      <td>185</td>\n",
              "      <td>2</td>\n",
              "      <td>1</td>\n",
              "      <td>1425</td>\n",
              "    </tr>\n",
              "    <tr>\n",
              "      <th>3105</th>\n",
              "      <td>501</td>\n",
              "      <td>8</td>\n",
              "      <td>3</td>\n",
              "      <td>116</td>\n",
              "    </tr>\n",
              "    <tr>\n",
              "      <th>3106</th>\n",
              "      <td>280</td>\n",
              "      <td>4</td>\n",
              "      <td>4</td>\n",
              "      <td>86</td>\n",
              "    </tr>\n",
              "  </tbody>\n",
              "</table>\n",
              "<p>3107 rows × 4 columns</p>\n",
              "</div>"
            ],
            "text/plain": [
              "      urlDrugName  rating  effectiveness  condition\n",
              "0               0       4              0          0\n",
              "1               1       1              0          1\n",
              "2               2      10              0          2\n",
              "3               3       3              1          3\n",
              "4               4       2              1          4\n",
              "...           ...     ...            ...        ...\n",
              "3102            6      10              0         27\n",
              "3103           95       1              2          7\n",
              "3104          185       2              1       1425\n",
              "3105          501       8              3        116\n",
              "3106          280       4              4         86\n",
              "\n",
              "[3107 rows x 4 columns]"
            ]
          },
          "metadata": {},
          "execution_count": 115
        }
      ]
    },
    {
      "cell_type": "code",
      "metadata": {
        "colab": {
          "base_uri": "https://localhost:8080/"
        },
        "id": "g2SywA3PCN63",
        "outputId": "e97d4d72-51a9-43e1-d393-a1fe0c48ca6a"
      },
      "source": [
        "y = y.reshape(len(y),1)\n",
        "y"
      ],
      "execution_count": null,
      "outputs": [
        {
          "output_type": "execute_result",
          "data": {
            "text/plain": [
              "array([[0],\n",
              "       [1],\n",
              "       [2],\n",
              "       ...,\n",
              "       [4],\n",
              "       [0],\n",
              "       [4]])"
            ]
          },
          "metadata": {},
          "execution_count": 116
        }
      ]
    },
    {
      "cell_type": "code",
      "metadata": {
        "id": "SHKJ_H17CQHH"
      },
      "source": [
        "#Splitting the dataset into training and test set"
      ],
      "execution_count": null,
      "outputs": []
    },
    {
      "cell_type": "code",
      "metadata": {
        "id": "pgZ87wkQCoCM"
      },
      "source": [
        "from sklearn.model_selection import train_test_split\n",
        "X_train,X_test,y_train,y_test = train_test_split(X,y,test_size=0.3)"
      ],
      "execution_count": null,
      "outputs": []
    },
    {
      "cell_type": "code",
      "metadata": {
        "id": "069AthcWCrWl"
      },
      "source": [
        "#Feature Scaling"
      ],
      "execution_count": null,
      "outputs": []
    },
    {
      "cell_type": "code",
      "metadata": {
        "id": "d8t-9okFCvbP"
      },
      "source": [
        "from sklearn.preprocessing import StandardScaler\n",
        "sc = StandardScaler()\n",
        "X_train = sc.fit_transform(X_train)\n",
        "X_test = sc.transform(X_test)"
      ],
      "execution_count": null,
      "outputs": []
    },
    {
      "cell_type": "code",
      "metadata": {
        "colab": {
          "base_uri": "https://localhost:8080/"
        },
        "id": "UTKO9ME_Cx97",
        "outputId": "8a160ce8-e04e-4272-811a-ee4442cc7c61"
      },
      "source": [
        "#using SVM\n",
        "from sklearn.svm import SVC\n",
        "\n",
        "svm_clf=SVC().fit(X_train,y_train)\n",
        "\n",
        "svm_pred=svm_clf.predict(X_test)\n",
        "\n",
        "print(classification_report(y_test,svm_pred))"
      ],
      "execution_count": null,
      "outputs": [
        {
          "output_type": "stream",
          "name": "stderr",
          "text": [
            "/usr/local/lib/python3.7/dist-packages/sklearn/utils/validation.py:760: DataConversionWarning: A column-vector y was passed when a 1d array was expected. Please change the shape of y to (n_samples, ), for example using ravel().\n",
            "  y = column_or_1d(y, warn=True)\n"
          ]
        },
        {
          "output_type": "stream",
          "name": "stdout",
          "text": [
            "              precision    recall  f1-score   support\n",
            "\n",
            "           0       0.50      0.60      0.54       315\n",
            "           1       0.41      0.33      0.36       107\n",
            "           2       0.58      0.61      0.60       261\n",
            "           3       0.39      0.55      0.46        47\n",
            "           4       0.49      0.31      0.38       203\n",
            "\n",
            "    accuracy                           0.50       933\n",
            "   macro avg       0.47      0.48      0.47       933\n",
            "weighted avg       0.50      0.50      0.50       933\n",
            "\n"
          ]
        }
      ]
    },
    {
      "cell_type": "code",
      "metadata": {
        "colab": {
          "base_uri": "https://localhost:8080/"
        },
        "id": "ssCNfdSDC6V8",
        "outputId": "d1071d8d-4463-45a9-9fa8-ff9d16dbe63f"
      },
      "source": [
        "#using random forest\n",
        "from sklearn.ensemble import RandomForestClassifier\n",
        "\n",
        "rf_clf=RandomForestClassifier().fit(X_train,y_train)\n",
        "\n",
        "rf_pred=rf_clf.predict(X_test)\n",
        "\n",
        "print(classification_report(y_test,rf_pred))"
      ],
      "execution_count": null,
      "outputs": [
        {
          "output_type": "stream",
          "name": "stderr",
          "text": [
            "/usr/local/lib/python3.7/dist-packages/ipykernel_launcher.py:4: DataConversionWarning: A column-vector y was passed when a 1d array was expected. Please change the shape of y to (n_samples,), for example using ravel().\n",
            "  after removing the cwd from sys.path.\n"
          ]
        },
        {
          "output_type": "stream",
          "name": "stdout",
          "text": [
            "              precision    recall  f1-score   support\n",
            "\n",
            "           0       0.47      0.48      0.47       315\n",
            "           1       0.28      0.26      0.27       107\n",
            "           2       0.54      0.57      0.56       261\n",
            "           3       0.36      0.45      0.40        47\n",
            "           4       0.41      0.37      0.39       203\n",
            "\n",
            "    accuracy                           0.45       933\n",
            "   macro avg       0.41      0.43      0.42       933\n",
            "weighted avg       0.45      0.45      0.45       933\n",
            "\n"
          ]
        }
      ]
    },
    {
      "cell_type": "code",
      "metadata": {
        "id": "iUCfYyY_DG16"
      },
      "source": [
        "# using decision tree \n",
        "from sklearn.tree import DecisionTreeClassifier\n",
        "\n",
        "from sklearn import tree\n",
        "clf = tree.DecisionTreeClassifier()\n",
        "clf = clf.fit(X_train,y_train)\n",
        "prediction=clf.predict(X_test)"
      ],
      "execution_count": null,
      "outputs": []
    },
    {
      "cell_type": "code",
      "metadata": {
        "colab": {
          "base_uri": "https://localhost:8080/"
        },
        "id": "bDUBN7V0EW9N",
        "outputId": "d42ff3a7-4513-47a2-9470-ad3a335c7b71"
      },
      "source": [
        "prediction"
      ],
      "execution_count": null,
      "outputs": [
        {
          "output_type": "execute_result",
          "data": {
            "text/plain": [
              "array([2, 0, 2, 0, 3, 1, 0, 0, 0, 4, 0, 2, 4, 2, 2, 0, 1, 1, 2, 0, 0, 0,\n",
              "       0, 2, 1, 0, 0, 2, 2, 1, 0, 0, 1, 0, 1, 1, 0, 0, 0, 2, 1, 0, 0, 2,\n",
              "       2, 4, 4, 2, 4, 1, 1, 3, 0, 2, 4, 0, 1, 1, 4, 4, 0, 2, 4, 4, 2, 0,\n",
              "       0, 3, 0, 0, 4, 4, 2, 2, 0, 2, 0, 0, 0, 4, 4, 2, 0, 0, 0, 0, 0, 0,\n",
              "       2, 1, 4, 0, 2, 2, 4, 4, 2, 4, 2, 1, 0, 2, 2, 1, 2, 0, 1, 2, 0, 4,\n",
              "       1, 0, 2, 2, 4, 0, 2, 2, 2, 0, 4, 0, 3, 4, 0, 1, 4, 2, 2, 4, 0, 3,\n",
              "       2, 0, 2, 0, 0, 4, 4, 0, 1, 0, 0, 0, 4, 0, 2, 1, 1, 1, 0, 0, 2, 0,\n",
              "       2, 0, 0, 1, 2, 0, 2, 0, 4, 0, 2, 2, 0, 2, 4, 2, 0, 0, 0, 0, 2, 2,\n",
              "       2, 1, 0, 2, 4, 2, 1, 2, 3, 2, 2, 1, 2, 1, 4, 4, 4, 4, 4, 4, 0, 1,\n",
              "       4, 0, 1, 4, 2, 0, 4, 0, 4, 4, 4, 4, 0, 1, 4, 0, 4, 1, 0, 2, 0, 1,\n",
              "       1, 0, 2, 4, 2, 2, 2, 4, 0, 0, 2, 4, 3, 0, 1, 0, 1, 0, 2, 1, 2, 0,\n",
              "       0, 0, 0, 2, 2, 2, 4, 2, 0, 4, 0, 0, 2, 4, 1, 1, 0, 2, 2, 2, 3, 1,\n",
              "       4, 0, 0, 2, 2, 0, 4, 3, 4, 1, 0, 0, 2, 4, 2, 4, 0, 0, 4, 1, 2, 3,\n",
              "       2, 1, 4, 0, 0, 0, 1, 2, 0, 2, 0, 2, 3, 3, 1, 4, 2, 3, 0, 0, 4, 2,\n",
              "       0, 0, 3, 2, 0, 4, 2, 1, 3, 4, 4, 4, 2, 4, 0, 0, 0, 0, 0, 0, 1, 4,\n",
              "       0, 3, 0, 2, 4, 2, 0, 2, 4, 0, 3, 3, 4, 2, 3, 1, 3, 0, 0, 0, 0, 4,\n",
              "       2, 0, 1, 0, 3, 2, 0, 3, 2, 0, 3, 2, 2, 0, 2, 3, 0, 2, 1, 4, 1, 0,\n",
              "       2, 1, 2, 2, 2, 0, 2, 0, 0, 1, 0, 1, 2, 4, 2, 2, 1, 2, 2, 4, 4, 4,\n",
              "       2, 0, 0, 0, 2, 2, 0, 0, 4, 2, 0, 2, 4, 2, 3, 0, 3, 2, 0, 2, 4, 2,\n",
              "       4, 0, 2, 2, 0, 2, 1, 0, 2, 2, 0, 4, 1, 0, 2, 0, 0, 0, 0, 0, 4, 1,\n",
              "       4, 3, 4, 1, 0, 4, 0, 4, 1, 0, 2, 2, 2, 2, 0, 4, 0, 4, 0, 4, 4, 2,\n",
              "       2, 3, 2, 0, 1, 0, 2, 2, 2, 4, 4, 0, 3, 1, 0, 0, 0, 2, 2, 1, 4, 1,\n",
              "       2, 2, 1, 0, 0, 4, 3, 2, 0, 1, 4, 2, 4, 3, 0, 2, 1, 4, 0, 1, 1, 0,\n",
              "       2, 1, 0, 2, 2, 4, 4, 0, 4, 0, 2, 2, 1, 0, 1, 0, 4, 4, 4, 2, 4, 0,\n",
              "       2, 2, 2, 4, 4, 0, 0, 0, 2, 0, 0, 0, 2, 4, 4, 1, 2, 0, 1, 1, 0, 3,\n",
              "       0, 0, 2, 0, 2, 3, 1, 0, 2, 4, 0, 2, 0, 2, 2, 0, 2, 3, 1, 1, 1, 0,\n",
              "       0, 4, 4, 3, 2, 4, 1, 2, 4, 4, 2, 2, 4, 0, 0, 0, 1, 1, 2, 0, 2, 2,\n",
              "       2, 2, 2, 4, 0, 3, 2, 0, 4, 0, 2, 0, 3, 0, 3, 4, 2, 0, 0, 0, 2, 0,\n",
              "       2, 0, 1, 1, 2, 0, 4, 0, 2, 0, 4, 4, 2, 4, 4, 0, 1, 0, 1, 2, 0, 0,\n",
              "       4, 0, 2, 2, 4, 0, 0, 4, 4, 1, 1, 2, 2, 4, 2, 4, 2, 2, 0, 4, 0, 4,\n",
              "       2, 0, 2, 0, 2, 4, 2, 2, 0, 0, 0, 2, 4, 1, 0, 2, 1, 4, 2, 2, 2, 4,\n",
              "       0, 4, 3, 0, 1, 1, 2, 1, 4, 0, 1, 2, 3, 2, 2, 2, 2, 2, 4, 2, 0, 4,\n",
              "       4, 2, 2, 2, 1, 0, 3, 2, 0, 0, 0, 2, 0, 0, 0, 4, 0, 4, 2, 0, 0, 3,\n",
              "       0, 0, 4, 2, 4, 0, 4, 4, 0, 0, 0, 1, 2, 4, 2, 2, 4, 2, 1, 0, 0, 4,\n",
              "       2, 2, 4, 4, 3, 2, 2, 0, 4, 2, 4, 0, 0, 2, 0, 1, 3, 4, 0, 0, 0, 0,\n",
              "       2, 0, 2, 2, 0, 0, 4, 2, 0, 0, 2, 0, 1, 2, 0, 0, 2, 2, 0, 1, 2, 0,\n",
              "       4, 1, 0, 4, 4, 0, 0, 3, 4, 0, 3, 0, 0, 1, 4, 4, 4, 0, 0, 2, 0, 4,\n",
              "       3, 2, 1, 0, 0, 2, 0, 3, 4, 2, 2, 4, 0, 0, 0, 0, 0, 1, 0, 4, 0, 2,\n",
              "       4, 2, 1, 0, 0, 0, 1, 1, 2, 4, 4, 2, 4, 0, 0, 4, 0, 0, 4, 1, 0, 0,\n",
              "       2, 0, 0, 1, 0, 2, 1, 4, 1, 0, 0, 2, 0, 0, 0, 0, 0, 1, 4, 4, 2, 1,\n",
              "       4, 4, 2, 0, 4, 2, 4, 4, 1, 2, 1, 2, 2, 0, 1, 2, 1, 0, 3, 0, 3, 0,\n",
              "       1, 0, 1, 4, 1, 4, 0, 1, 0, 0, 2, 2, 4, 2, 0, 2, 4, 0, 0, 4, 4, 2,\n",
              "       0, 0, 1, 4, 1, 0, 0, 2, 2])"
            ]
          },
          "metadata": {},
          "execution_count": 124
        }
      ]
    },
    {
      "cell_type": "code",
      "metadata": {
        "colab": {
          "base_uri": "https://localhost:8080/",
          "height": 697
        },
        "id": "BfK7NsmSDLaD",
        "outputId": "49b78005-951a-445d-faec-8dde2971c33d"
      },
      "source": [
        "from sklearn.datasets import load_iris\n",
        "iris = load_iris()\n",
        "df,target = iris.data, iris.target\n",
        "clf = tree.DecisionTreeClassifier()\n",
        "clf = clf.fit(df, target)\n",
        "tree.plot_tree(clf) "
      ],
      "execution_count": null,
      "outputs": [
        {
          "output_type": "execute_result",
          "data": {
            "text/plain": [
              "[Text(279.0, 348.81, 'X[3] <= 0.8\\ngini = 0.667\\nsamples = 150\\nvalue = [50, 50, 50]'),\n",
              " Text(236.07692307692307, 285.39, 'gini = 0.0\\nsamples = 50\\nvalue = [50, 0, 0]'),\n",
              " Text(321.9230769230769, 285.39, 'X[3] <= 1.75\\ngini = 0.5\\nsamples = 100\\nvalue = [0, 50, 50]'),\n",
              " Text(171.69230769230768, 221.97, 'X[2] <= 4.95\\ngini = 0.168\\nsamples = 54\\nvalue = [0, 49, 5]'),\n",
              " Text(85.84615384615384, 158.55, 'X[3] <= 1.65\\ngini = 0.041\\nsamples = 48\\nvalue = [0, 47, 1]'),\n",
              " Text(42.92307692307692, 95.13, 'gini = 0.0\\nsamples = 47\\nvalue = [0, 47, 0]'),\n",
              " Text(128.76923076923077, 95.13, 'gini = 0.0\\nsamples = 1\\nvalue = [0, 0, 1]'),\n",
              " Text(257.53846153846155, 158.55, 'X[3] <= 1.55\\ngini = 0.444\\nsamples = 6\\nvalue = [0, 2, 4]'),\n",
              " Text(214.61538461538458, 95.13, 'gini = 0.0\\nsamples = 3\\nvalue = [0, 0, 3]'),\n",
              " Text(300.46153846153845, 95.13, 'X[0] <= 6.95\\ngini = 0.444\\nsamples = 3\\nvalue = [0, 2, 1]'),\n",
              " Text(257.53846153846155, 31.710000000000036, 'gini = 0.0\\nsamples = 2\\nvalue = [0, 2, 0]'),\n",
              " Text(343.38461538461536, 31.710000000000036, 'gini = 0.0\\nsamples = 1\\nvalue = [0, 0, 1]'),\n",
              " Text(472.15384615384613, 221.97, 'X[2] <= 4.85\\ngini = 0.043\\nsamples = 46\\nvalue = [0, 1, 45]'),\n",
              " Text(429.23076923076917, 158.55, 'X[0] <= 5.95\\ngini = 0.444\\nsamples = 3\\nvalue = [0, 1, 2]'),\n",
              " Text(386.30769230769226, 95.13, 'gini = 0.0\\nsamples = 1\\nvalue = [0, 1, 0]'),\n",
              " Text(472.15384615384613, 95.13, 'gini = 0.0\\nsamples = 2\\nvalue = [0, 0, 2]'),\n",
              " Text(515.0769230769231, 158.55, 'gini = 0.0\\nsamples = 43\\nvalue = [0, 0, 43]')]"
            ]
          },
          "metadata": {},
          "execution_count": 125
        },
        {
          "output_type": "display_data",
          "data": {
            "image/png": "[encoded data removed]",
            "text/plain": [
              "<Figure size 720x504 with 1 Axes>"
            ]
          },
          "metadata": {
            "needs_background": "light"
          }
        }
      ]
    },
    {
      "cell_type": "code",
      "metadata": {
        "id": "W_31SWaHE6_7"
      },
      "source": [
        "#Splitting the dataset\n",
        "from sklearn.model_selection import train_test_split\n",
        "X_train, X_test, y_train, y_test = train_test_split(df,target)"
      ],
      "execution_count": null,
      "outputs": []
    },
    {
      "cell_type": "code",
      "metadata": {
        "id": "onuUxBvAFFDK"
      },
      "source": [
        "#Feature Scaling\n",
        "from sklearn.preprocessing import StandardScaler\n",
        "sc = StandardScaler()\n",
        "X_train = sc.fit_transform(X_train)\n",
        "X_test = sc.transform(X_test)"
      ],
      "execution_count": null,
      "outputs": []
    },
    {
      "cell_type": "markdown",
      "metadata": {
        "id": "J2E0eEraEgzP"
      },
      "source": [
        "**Logistic Regression**"
      ]
    },
    {
      "cell_type": "code",
      "metadata": {
        "colab": {
          "base_uri": "https://localhost:8080/"
        },
        "id": "UzkQ8d0NEmmi",
        "outputId": "fcbb2f1e-35a4-4002-844b-64faa881422f"
      },
      "source": [
        "from sklearn.linear_model import LogisticRegression\n",
        "log_reg = LogisticRegression(random_state=0)\n",
        "log_reg.fit(X_train,y_train)"
      ],
      "execution_count": null,
      "outputs": [
        {
          "output_type": "execute_result",
          "data": {
            "text/plain": [
              "LogisticRegression(C=1.0, class_weight=None, dual=False, fit_intercept=True,\n",
              "                   intercept_scaling=1, l1_ratio=None, max_iter=100,\n",
              "                   multi_class='auto', n_jobs=None, penalty='l2',\n",
              "                   random_state=0, solver='lbfgs', tol=0.0001, verbose=0,\n",
              "                   warm_start=False)"
            ]
          },
          "metadata": {},
          "execution_count": 128
        }
      ]
    },
    {
      "cell_type": "code",
      "metadata": {
        "id": "CZHNERRAEqCz"
      },
      "source": [
        "log_reg_pred = log_reg.predict(X_test)"
      ],
      "execution_count": null,
      "outputs": []
    },
    {
      "cell_type": "code",
      "metadata": {
        "colab": {
          "base_uri": "https://localhost:8080/"
        },
        "id": "9qmYaokyEv03",
        "outputId": "32f19690-7dee-4855-c797-80137984754e"
      },
      "source": [
        "from sklearn.metrics import accuracy_score , confusion_matrix\n",
        "cm = confusion_matrix(y_test,log_reg_pred)\n",
        "print(cm)\n",
        "accuracy_score(y_test,log_reg_pred)"
      ],
      "execution_count": null,
      "outputs": [
        {
          "output_type": "stream",
          "name": "stdout",
          "text": [
            "[[ 9  0  0]\n",
            " [ 0 11  1]\n",
            " [ 0  0 17]]\n"
          ]
        },
        {
          "output_type": "execute_result",
          "data": {
            "text/plain": [
              "0.9736842105263158"
            ]
          },
          "metadata": {},
          "execution_count": 130
        }
      ]
    },
    {
      "cell_type": "markdown",
      "metadata": {
        "id": "FI7Sr3eJFXFx"
      },
      "source": [
        "**KNearest Neighbors**"
      ]
    },
    {
      "cell_type": "code",
      "metadata": {
        "colab": {
          "base_uri": "https://localhost:8080/"
        },
        "id": "CAzA-LPaFeBn",
        "outputId": "b21db9dc-4542-456a-ab58-3818694cf150"
      },
      "source": [
        "from sklearn.neighbors import KNeighborsClassifier\n",
        "knn_classifier = KNeighborsClassifier(n_neighbors=5,metric='minkowski',p=2)\n",
        "knn_classifier.fit(X_train,y_train)"
      ],
      "execution_count": null,
      "outputs": [
        {
          "output_type": "execute_result",
          "data": {
            "text/plain": [
              "KNeighborsClassifier(algorithm='auto', leaf_size=30, metric='minkowski',\n",
              "                     metric_params=None, n_jobs=None, n_neighbors=5, p=2,\n",
              "                     weights='uniform')"
            ]
          },
          "metadata": {},
          "execution_count": 131
        }
      ]
    },
    {
      "cell_type": "code",
      "metadata": {
        "colab": {
          "base_uri": "https://localhost:8080/"
        },
        "id": "FH8wy5JqFjlM",
        "outputId": "efd54b4c-2d29-4bbe-d795-742e8329d7fe"
      },
      "source": [
        "knn_pred = knn_classifier.predict(X_test)\n",
        "from sklearn.metrics import accuracy_score , confusion_matrix\n",
        "cm = confusion_matrix(y_test,knn_pred)\n",
        "print(cm)\n",
        "accuracy_score(y_test,knn_pred)"
      ],
      "execution_count": null,
      "outputs": [
        {
          "output_type": "stream",
          "name": "stdout",
          "text": [
            "[[ 9  0  0]\n",
            " [ 0 12  0]\n",
            " [ 0  2 15]]\n"
          ]
        },
        {
          "output_type": "execute_result",
          "data": {
            "text/plain": [
              "0.9473684210526315"
            ]
          },
          "metadata": {},
          "execution_count": 132
        }
      ]
    },
    {
      "cell_type": "markdown",
      "metadata": {
        "id": "c0qVhmLBGZLW"
      },
      "source": [
        "**SVC (rbf)**"
      ]
    },
    {
      "cell_type": "code",
      "metadata": {
        "colab": {
          "base_uri": "https://localhost:8080/"
        },
        "id": "DI6-eNOIGenT",
        "outputId": "9c09e738-badc-4b39-d138-e742feb0d855"
      },
      "source": [
        "from sklearn.svm import SVC\n",
        "svm_nl_classifier = SVC(kernel='rbf')\n",
        "svm_nl_classifier.fit(X_train,y_train)"
      ],
      "execution_count": null,
      "outputs": [
        {
          "output_type": "execute_result",
          "data": {
            "text/plain": [
              "SVC(C=1.0, break_ties=False, cache_size=200, class_weight=None, coef0=0.0,\n",
              "    decision_function_shape='ovr', degree=3, gamma='scale', kernel='rbf',\n",
              "    max_iter=-1, probability=False, random_state=None, shrinking=True,\n",
              "    tol=0.001, verbose=False)"
            ]
          },
          "metadata": {},
          "execution_count": 133
        }
      ]
    },
    {
      "cell_type": "code",
      "metadata": {
        "colab": {
          "base_uri": "https://localhost:8080/"
        },
        "id": "AYUxHAzNGiTb",
        "outputId": "1be56f09-ec9b-4b9c-d1e7-ac7220256bbb"
      },
      "source": [
        "svm_nl_pred = svm_nl_classifier.predict(X_test)\n",
        "from sklearn.metrics import accuracy_score , confusion_matrix\n",
        "cm = confusion_matrix(y_test,svm_nl_pred)\n",
        "print(cm)\n",
        "accuracy_score(y_test,svm_nl_pred)"
      ],
      "execution_count": null,
      "outputs": [
        {
          "output_type": "stream",
          "name": "stdout",
          "text": [
            "[[ 9  0  0]\n",
            " [ 0 12  0]\n",
            " [ 0  1 16]]\n"
          ]
        },
        {
          "output_type": "execute_result",
          "data": {
            "text/plain": [
              "0.9736842105263158"
            ]
          },
          "metadata": {},
          "execution_count": 134
        }
      ]
    },
    {
      "cell_type": "markdown",
      "metadata": {
        "id": "UhOP8VoiG1nI"
      },
      "source": [
        "**Naive Bayes**"
      ]
    },
    {
      "cell_type": "code",
      "metadata": {
        "colab": {
          "base_uri": "https://localhost:8080/"
        },
        "id": "MZRJzvueG5Ah",
        "outputId": "e34e7fd9-f10c-4045-bf0d-f947b9ea2a21"
      },
      "source": [
        "from sklearn.naive_bayes import GaussianNB\n",
        "naive_classifier = GaussianNB()\n",
        "naive_classifier.fit(X_train,y_train)"
      ],
      "execution_count": null,
      "outputs": [
        {
          "output_type": "execute_result",
          "data": {
            "text/plain": [
              "GaussianNB(priors=None, var_smoothing=1e-09)"
            ]
          },
          "metadata": {},
          "execution_count": 135
        }
      ]
    },
    {
      "cell_type": "code",
      "metadata": {
        "colab": {
          "base_uri": "https://localhost:8080/"
        },
        "id": "zjV7w24dG5bb",
        "outputId": "7a453b6b-4360-4579-80b4-11566a4c98a0"
      },
      "source": [
        "naive_pred = naive_classifier.predict(X_test)\n",
        "from sklearn.metrics import accuracy_score , confusion_matrix\n",
        "cm = confusion_matrix(y_test,naive_pred)\n",
        "print(cm)\n",
        "accuracy_score(y_test,naive_pred)"
      ],
      "execution_count": null,
      "outputs": [
        {
          "output_type": "stream",
          "name": "stdout",
          "text": [
            "[[ 9  0  0]\n",
            " [ 0 11  1]\n",
            " [ 0  0 17]]\n"
          ]
        },
        {
          "output_type": "execute_result",
          "data": {
            "text/plain": [
              "0.9736842105263158"
            ]
          },
          "metadata": {},
          "execution_count": 136
        }
      ]
    },
    {
      "cell_type": "markdown",
      "metadata": {
        "id": "taQn0BlgHQtp"
      },
      "source": [
        "**Decision Tree**"
      ]
    },
    {
      "cell_type": "code",
      "metadata": {
        "colab": {
          "base_uri": "https://localhost:8080/"
        },
        "id": "Xwjs-BzGHTMm",
        "outputId": "e395e8c8-817a-4635-c7d1-5c2ca9df0e11"
      },
      "source": [
        "from sklearn.tree import DecisionTreeClassifier\n",
        "decision_classifier = DecisionTreeClassifier(criterion='entropy',random_state=0)\n",
        "decision_classifier.fit(X_train,y_train)"
      ],
      "execution_count": null,
      "outputs": [
        {
          "output_type": "execute_result",
          "data": {
            "text/plain": [
              "DecisionTreeClassifier(ccp_alpha=0.0, class_weight=None, criterion='entropy',\n",
              "                       max_depth=None, max_features=None, max_leaf_nodes=None,\n",
              "                       min_impurity_decrease=0.0, min_impurity_split=None,\n",
              "                       min_samples_leaf=1, min_samples_split=2,\n",
              "                       min_weight_fraction_leaf=0.0, presort='deprecated',\n",
              "                       random_state=0, splitter='best')"
            ]
          },
          "metadata": {},
          "execution_count": 137
        }
      ]
    },
    {
      "cell_type": "code",
      "metadata": {
        "colab": {
          "base_uri": "https://localhost:8080/"
        },
        "id": "ptDY-JkpHVk1",
        "outputId": "cd59fdb9-7374-42eb-e021-c7588b3af0c4"
      },
      "source": [
        "decision_pred = decision_classifier.predict(X_test)\n",
        "from sklearn.metrics import accuracy_score , confusion_matrix\n",
        "cm = confusion_matrix(y_test,decision_pred)\n",
        "print(cm)\n",
        "accuracy_score(y_test,decision_pred)"
      ],
      "execution_count": null,
      "outputs": [
        {
          "output_type": "stream",
          "name": "stdout",
          "text": [
            "[[ 9  0  0]\n",
            " [ 0 12  0]\n",
            " [ 0  1 16]]\n"
          ]
        },
        {
          "output_type": "execute_result",
          "data": {
            "text/plain": [
              "0.9736842105263158"
            ]
          },
          "metadata": {},
          "execution_count": 138
        }
      ]
    },
    {
      "cell_type": "markdown",
      "metadata": {
        "id": "rdVLinSvHeDa"
      },
      "source": [
        "**Random Forest**"
      ]
    },
    {
      "cell_type": "code",
      "metadata": {
        "colab": {
          "base_uri": "https://localhost:8080/"
        },
        "id": "47CCwKG6Hh4M",
        "outputId": "36b6c560-e4b1-4c09-9ce1-afa640e88e8e"
      },
      "source": [
        "from sklearn.ensemble import RandomForestClassifier\n",
        "random_classifier = RandomForestClassifier(n_estimators=10,criterion='entropy',random_state=0)\n",
        "random_classifier.fit(X_train,y_train)"
      ],
      "execution_count": null,
      "outputs": [
        {
          "output_type": "execute_result",
          "data": {
            "text/plain": [
              "RandomForestClassifier(bootstrap=True, ccp_alpha=0.0, class_weight=None,\n",
              "                       criterion='entropy', max_depth=None, max_features='auto',\n",
              "                       max_leaf_nodes=None, max_samples=None,\n",
              "                       min_impurity_decrease=0.0, min_impurity_split=None,\n",
              "                       min_samples_leaf=1, min_samples_split=2,\n",
              "                       min_weight_fraction_leaf=0.0, n_estimators=10,\n",
              "                       n_jobs=None, oob_score=False, random_state=0, verbose=0,\n",
              "                       warm_start=False)"
            ]
          },
          "metadata": {},
          "execution_count": 139
        }
      ]
    },
    {
      "cell_type": "code",
      "metadata": {
        "colab": {
          "base_uri": "https://localhost:8080/"
        },
        "id": "-3VMC4lWHjbx",
        "outputId": "882a1b32-a134-4cf1-c1be-044d2b97e86c"
      },
      "source": [
        "\n",
        "random_pred = random_classifier.predict(X_test)\n",
        "from sklearn.metrics import accuracy_score , confusion_matrix\n",
        "cm = confusion_matrix(y_test,random_pred)\n",
        "print(cm)\n",
        "accuracy_score(y_test,random_pred)"
      ],
      "execution_count": null,
      "outputs": [
        {
          "output_type": "stream",
          "name": "stdout",
          "text": [
            "[[ 9  0  0]\n",
            " [ 0 11  1]\n",
            " [ 0  1 16]]\n"
          ]
        },
        {
          "output_type": "execute_result",
          "data": {
            "text/plain": [
              "0.9473684210526315"
            ]
          },
          "metadata": {},
          "execution_count": 140
        }
      ]
    },
    {
      "cell_type": "markdown",
      "metadata": {
        "id": "o3ah8nFoIC_1"
      },
      "source": [
        "**SVM (Linear)**"
      ]
    },
    {
      "cell_type": "code",
      "metadata": {
        "colab": {
          "base_uri": "https://localhost:8080/"
        },
        "id": "jusLmH9gIGy6",
        "outputId": "45b76d67-5353-434b-c3c2-666493e1db7d"
      },
      "source": [
        "from sklearn.svm import SVC\n",
        "svm_l_classifier = SVC(kernel='linear')\n",
        "svm_l_classifier.fit(X_train,y_train)"
      ],
      "execution_count": null,
      "outputs": [
        {
          "output_type": "execute_result",
          "data": {
            "text/plain": [
              "SVC(C=1.0, break_ties=False, cache_size=200, class_weight=None, coef0=0.0,\n",
              "    decision_function_shape='ovr', degree=3, gamma='scale', kernel='linear',\n",
              "    max_iter=-1, probability=False, random_state=None, shrinking=True,\n",
              "    tol=0.001, verbose=False)"
            ]
          },
          "metadata": {},
          "execution_count": 141
        }
      ]
    },
    {
      "cell_type": "code",
      "metadata": {
        "colab": {
          "base_uri": "https://localhost:8080/"
        },
        "id": "ZsJSHftWIJVt",
        "outputId": "7352ae2f-47b6-4c9c-f385-95e9fa5f5a24"
      },
      "source": [
        "svm_l_pred = svm_l_classifier.predict(X_test)\n",
        "from sklearn.metrics import accuracy_score , confusion_matrix\n",
        "cm = confusion_matrix(y_test,svm_l_pred)\n",
        "print(cm)\n",
        "accuracy_score(y_test,svm_l_pred)"
      ],
      "execution_count": null,
      "outputs": [
        {
          "output_type": "stream",
          "name": "stdout",
          "text": [
            "[[ 9  0  0]\n",
            " [ 0 12  0]\n",
            " [ 0  0 17]]\n"
          ]
        },
        {
          "output_type": "execute_result",
          "data": {
            "text/plain": [
              "1.0"
            ]
          },
          "metadata": {},
          "execution_count": 142
        }
      ]
    },
    {
      "cell_type": "code",
      "metadata": {
        "colab": {
          "base_uri": "https://localhost:8080/"
        },
        "id": "A_XOPvlhIWlA",
        "outputId": "e77319b1-da42-45b3-bc6b-a3a90646f40d"
      },
      "source": [
        "print(classification_report(y_test,svm_l_pred))"
      ],
      "execution_count": null,
      "outputs": [
        {
          "output_type": "stream",
          "name": "stdout",
          "text": [
            "              precision    recall  f1-score   support\n",
            "\n",
            "           0       1.00      1.00      1.00         9\n",
            "           1       1.00      1.00      1.00        12\n",
            "           2       1.00      1.00      1.00        17\n",
            "\n",
            "    accuracy                           1.00        38\n",
            "   macro avg       1.00      1.00      1.00        38\n",
            "weighted avg       1.00      1.00      1.00        38\n",
            "\n"
          ]
        }
      ]
    },
    {
      "cell_type": "code",
      "metadata": {
        "id": "nCzVyogJIes2"
      },
      "source": [
        ""
      ],
      "execution_count": null,
      "outputs": []
    }
  ]
}